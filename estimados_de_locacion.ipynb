{
  "cells": [
    {
      "cell_type": "markdown",
      "metadata": {
        "id": "view-in-github",
        "colab_type": "text"
      },
      "source": [
        "<a href=\"https://colab.research.google.com/github/ALuceroMA/B1-Procesamiento-de-Datos-con-Python-2020-2021/blob/master/estimados_de_locacion.ipynb\" target=\"_parent\"><img src=\"https://colab.research.google.com/assets/colab-badge.svg\" alt=\"Open In Colab\"/></a>"
      ]
    },
    {
      "cell_type": "markdown",
      "metadata": {
        "id": "Mm3igwtnUm2n"
      },
      "source": [
        "## Reto 2: Estimados de locación\n",
        "\n",
        "### 1. Objetivos:\n",
        "    - Implementar los algoritmos para obtener estimados de locación sin utilizar los métodos builtin de pandas\n",
        "\n",
        "---\n",
        "    \n",
        "### 2. Desarrollo:"
      ]
    },
    {
      "cell_type": "code",
      "source": [
        "# 1. Importar el módulo 'os' para interactuar con el sistema operativo y realizar operaciones como cambiar el directorio de trabajo.\n",
        "import os\n",
        "\n",
        "# 2. Importar la función 'drive' de la biblioteca 'google.colab' para montar Google Drive en el entorno Colab.\n",
        "from google.colab import drive\n",
        "\n",
        "# 3. Montar Google Drive para acceder a los archivos almacenados en él.\n",
        "#    - '/content/drive': Es el punto de montaje en el sistema de archivos de Colab.\n",
        "#    - Al montar Google Drive, se creará una carpeta 'drive' en el directorio '/content',\n",
        "#      que representa el almacenamiento de Google Drive en el entorno de Colab.\n",
        "drive.mount('/content/drive')\n",
        "\n",
        "# 4. Establecer el directorio de trabajo en el entorno de Colab.\n",
        "#    - 'path': Variable que almacena la ruta del directorio de trabajo deseado en Google Drive.\n",
        "#    - Utilizamos la función 'os.chdir()' para cambiar el directorio de trabajo actual del entorno de Colab a la ruta especificada.\n",
        "#    - Esto es útil para acceder a archivos en un directorio específico sin necesidad de especificar rutas absolutas cada vez.\n",
        "path = '/content/drive/MyDrive/Colab Notebooks/notebooks/Sesión 01'\n",
        "os.chdir(path)\n",
        "\n",
        "# 5. Imprimir el directorio de trabajo actual para confirmar que el cambio ha sido exitoso.\n",
        "#    - 'os.getcwd()' devuelve el directorio de trabajo actual. Es útil para verificar si el cambio de directorio se realizó correctamente.\n",
        "print(\"Directorio actual:\", os.getcwd())\n",
        "\n",
        "# 6. Listar los archivos en el directorio actual.\n",
        "#    - 'os.listdir()': Función que devuelve una lista de los nombres de los archivos y directorios en el directorio actual.\n",
        "#    - Se utiliza para verificar los archivos disponibles en el directorio de trabajo establecido.\n",
        "os.listdir()"
      ],
      "metadata": {
        "id": "KDY0Spb0VBHA",
        "colab": {
          "base_uri": "https://localhost:8080/"
        },
        "outputId": "915741c8-7b6a-4656-e377-3fa7e047fc83"
      },
      "execution_count": null,
      "outputs": [
        {
          "output_type": "stream",
          "name": "stdout",
          "text": [
            "Drive already mounted at /content/drive; to attempt to forcibly remount, call drive.mount(\"/content/drive\", force_remount=True).\n",
            "Directorio actual: /content/drive/MyDrive/Colab Notebooks/notebooks/Sesión 01\n"
          ]
        },
        {
          "output_type": "execute_result",
          "data": {
            "text/plain": [
              "['estimados_de_locacion.ipynb']"
            ]
          },
          "metadata": {},
          "execution_count": 1
        }
      ]
    },
    {
      "cell_type": "markdown",
      "metadata": {
        "id": "FAfrJaYyUm2w"
      },
      "source": [
        "#### a) Implementando estimados de locación\n",
        "\n",
        "Este Reto va a consistir en implementar el promedio y la mediana sin utilizar los métodos `mean` y `median` que vienen incluidos en `pandas`. Implementar algoritmos desde 0 es una excelente práctica que nos ayuda a entenderlos mejor y recordarlos con más precisión.\n",
        "\n",
        "Puedes utilizar `pandas` y otras funciones vectorizadas o de reducción. Las únicas funciones que no están permitidas son `mean` y `median`. Las dos funciones que vas a crear deben recibir una serie de `pandas` y regresar un solo número."
      ]
    },
    {
      "cell_type": "markdown",
      "metadata": {
        "id": "Eglu61INUm20"
      },
      "source": [
        "#### b) Estimados de locación de diámetros de meteoritos\n",
        "\n",
        "Ahora vamos a utilizar nuestras funciones custom para obtener estimados de locación de un conjunto de datos que contiene información acerca de objetos que orbitaron cerca de la Tierra durante el periodo de enero y febrero de 1995.\n",
        "\n",
        "El dataset se llama 'near_earth_objects-jan_feb_1995-clean.csv' y la columna que vamos a analizar se llama 'estimated_diameter.meters.estimated_diameter_max'. Esta columna contiene el diámetro máximo estimado de cada objeto.\n",
        "\n",
        "El reto es el siguiente:\n",
        "\n",
        "1. Lee el dataset usando `pandas`.\n",
        "2. Obtén el promedio y la mediana usando tus funciones custom y asígnalas a `promedio_diametro` y `mediana_diametro`.\n",
        "3. Corre la celda que contiene el código para verificar tus resultados.\n",
        "4. Responde la pregunta que te regresa la función de verificación."
      ]
    },
    {
      "cell_type": "code",
      "source": [
        "# 0. Importar las bibliotecas necesarias.\n",
        "#    - 'numpy' es una biblioteca de Python utilizada para operaciones matemáticas y manejo de arrays.\n",
        "#    - 'pandas' es una biblioteca de Python utilizada para el análisis y manipulación de datos.\n",
        "import numpy as np\n",
        "import pandas as pd\n",
        "\n",
        "# 1. Definir una función personalizada para calcular el promedio.\n",
        "#    - 'serie': Argumento que representa la serie de pandas de la cual se quiere calcular el promedio.\n",
        "#    - La función utiliza 'serie.sum()' para sumar todos los elementos de la serie y 'serie.count()' para contar el número de elementos.\n",
        "#    - Se retorna la suma dividida por el conteo, lo que da el promedio de la serie.\n",
        "def promedio_custom(serie):\n",
        "    return serie.sum() / serie.count()\n",
        "\n",
        "# 2. Definir una función personalizada para calcular la mediana.\n",
        "#    - 'serie': Argumento que representa la serie de pandas de la cual se quiere calcular la mediana.\n",
        "#    - La función primero ordena la serie en orden ascendente.\n",
        "#    - Luego verifica si el número de elementos es par o impar para determinar cómo calcular la mediana.\n",
        "#    - Si es par, se toma el promedio de los dos elementos centrales. Si es impar, se toma el elemento central.\n",
        "def mediana_custom(serie):\n",
        "    serie_ordenada = serie.sort_values(ascending=True)\n",
        "    length_of_series = len(serie)\n",
        "    mid = length_of_series // 2\n",
        "    if length_of_series % 2 == 0:\n",
        "        return (serie_ordenada.iloc[mid - 1] + serie_ordenada.iloc[mid]) / 2\n",
        "    else:\n",
        "        return serie_ordenada.iloc[mid]\n",
        "\n",
        "# 3. Cargar el dataset de meteoritos utilizando pandas.\n",
        "#    - 'pd.read_csv()' se usa para leer el archivo CSV y cargarlo en un DataFrame.\n",
        "#    - Se utiliza una URL como argumento para acceder directamente al archivo en línea.\n",
        "df_meteoritos = pd.read_csv('https://raw.githubusercontent.com/beduExpert/B2-Analisis-de-Datos-con-Python-2020/master/Datasets/near_earth_objects-jan_feb_1995-clean.csv', index_col=0)\n",
        "\n",
        "# 4. Calcular el promedio y la mediana del diámetro de los meteoritos utilizando las funciones personalizadas.\n",
        "#    - Se selecciona la columna 'estimated_diameter.meters.estimated_diameter_max' para calcular el promedio y la mediana.\n",
        "promedio_diametro = promedio_custom(df_meteoritos['estimated_diameter.meters.estimated_diameter_max'])\n",
        "mediana_diametro = mediana_custom(df_meteoritos['estimated_diameter.meters.estimated_diameter_max'])\n",
        "\n",
        "# 5. Imprimir los resultados para su verificación.\n",
        "print(f\"Promedio del diámetro: {promedio_diametro}\")\n",
        "print(f\"Mediana del diámetro: {mediana_diametro}\")"
      ],
      "metadata": {
        "colab": {
          "base_uri": "https://localhost:8080/"
        },
        "id": "3kRu8eQZXn81",
        "outputId": "626a5b0e-a5d0-4f74-ae34-40980f868bb7"
      },
      "execution_count": null,
      "outputs": [
        {
          "output_type": "stream",
          "name": "stdout",
          "text": [
            "Promedio del diámetro: 410.08604223976545\n",
            "Mediana del diámetro: 215.7943048444\n"
          ]
        }
      ]
    },
    {
      "cell_type": "code",
      "execution_count": null,
      "metadata": {
        "id": "Q0o9SzmRUm25",
        "colab": {
          "base_uri": "https://localhost:8080/"
        },
        "outputId": "08ae9fe4-d21a-4a1e-de63-e53846ab2a6f"
      },
      "outputs": [
        {
          "output_type": "stream",
          "name": "stdout",
          "text": [
            "Los estimados fueron calcualados correctamente.\n",
            "\n",
            "El promedio calculado fue de 410.08604223976545 mientras que la mediana fue de 215.7943048444.\n",
            "¿A qué le atribuyes tú la diferencia?\n"
          ]
        }
      ],
      "source": [
        "# Pídele al experto la función `verificar_resultados` para que puedas correr la siguiente verificación\n",
        "def verificar_resultados(df_meteoritos, promedio_diametro, mediana_diametro):\n",
        "    promedio = df_meteoritos['estimated_diameter.meters.estimated_diameter_max'].mean()\n",
        "    if promedio_diametro != promedio:\n",
        "        print(f'El promedio no fue calculado correctamente.')\n",
        "        print(f'Promedio esperado: {promedio}; Promedio recibido: {promedio_diametro}')\n",
        "        return\n",
        "\n",
        "\n",
        "    mediana = df_meteoritos['estimated_diameter.meters.estimated_diameter_max'].median()\n",
        "    if mediana_diametro != mediana:\n",
        "        print(f'La mediana no fue calculada correctamente.')\n",
        "        print(f'Mediana esperada: {mediana}; Mediana recibida: {mediana_diametro}')\n",
        "        return\n",
        "\n",
        "    print(f'Los estimados fueron calcualados correctamente.\\n')\n",
        "    print(f'El promedio calculado fue de {promedio_diametro} mientras que la mediana fue de {mediana_diametro}.')\n",
        "    print(f'¿A qué le atribuyes tú la diferencia?')\n",
        "\n",
        "verificar_resultados(df_meteoritos, promedio_diametro, mediana_diametro)"
      ]
    },
    {
      "cell_type": "markdown",
      "metadata": {
        "id": "wwhe8QevUm26"
      },
      "source": [
        "<details><summary>Solución</summary>\n",
        "\n",
        "```python\n",
        "def promedio_custom(serie):\n",
        "    return serie.sum() / serie.count()\n",
        "    \n",
        "def mediana_custom(serie):\n",
        "    import numpy as np\n",
        "    \n",
        "    serie_ordenada = serie.sort_values(ascending=True)\n",
        "    length_of_series = serie.count()\n",
        "    \n",
        "    if length_of_series % 2 == 0:\n",
        "        bottom =int(length_of_series / 2)\n",
        "        top = int(bottom + 1)\n",
        "        return (serie_ordenada.iloc[bottom] + serie_ordenada.iloc[top]) / 2\n",
        "    else:\n",
        "        index = int(np.ceil(length_of_series / 2))\n",
        "        return serie_ordenada.iloc[index]\n",
        "    \n",
        "import pandas as pd\n",
        "df_meteoritos = pd.read_csv('../../Datasets/near_earth_objects-jan_feb_1995-clean.csv', index_col=0)\n",
        "promedio_diametro = promedio_custom(df_meteoritos['estimated_diameter.meters.estimated_diameter_max'])\n",
        "mediana_diametro = mediana_custom(df_meteoritos['estimated_diameter.meters.estimated_diameter_max'])\n",
        "```\n",
        "    \n",
        "</details>"
      ]
    },
    {
      "cell_type": "code",
      "execution_count": null,
      "metadata": {
        "id": "wI5N7U6xUm26"
      },
      "outputs": [],
      "source": []
    }
  ],
  "metadata": {
    "kernelspec": {
      "display_name": "Python (data_science)",
      "language": "python",
      "name": "data_science"
    },
    "language_info": {
      "codemirror_mode": {
        "name": "ipython",
        "version": 3
      },
      "file_extension": ".py",
      "mimetype": "text/x-python",
      "name": "python",
      "nbconvert_exporter": "python",
      "pygments_lexer": "ipython3",
      "version": "3.7.6"
    },
    "colab": {
      "provenance": [],
      "include_colab_link": true
    }
  },
  "nbformat": 4,
  "nbformat_minor": 0
}